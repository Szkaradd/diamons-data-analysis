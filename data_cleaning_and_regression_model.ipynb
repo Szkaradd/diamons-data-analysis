{
 "cells": [
  {
   "cell_type": "markdown",
   "metadata": {},
   "source": [
    "# Diamond analysis"
   ]
  },
  {
   "cell_type": "markdown",
   "metadata": {},
   "source": [
    "## importing libraries"
   ]
  },
  {
   "cell_type": "code",
   "execution_count": 226,
   "metadata": {},
   "outputs": [],
   "source": [
    "import pandas as pd\n",
    "import numpy as np\n",
    "\n",
    "from sklearn.impute import SimpleImputer\n",
    "from sklearn.model_selection import train_test_split\n",
    "from sklearn.linear_model import LinearRegression\n",
    "from sklearn.metrics import mean_squared_error, r2_score\n",
    "from sklearn.compose import ColumnTransformer\n",
    "from sklearn.preprocessing import OneHotEncoder\n",
    "import statsmodels.api as sm\n",
    "import matplotlib.pyplot as plt"
   ]
  },
  {
   "cell_type": "markdown",
   "metadata": {},
   "source": [
    "## reading data"
   ]
  },
  {
   "cell_type": "code",
   "execution_count": 227,
   "metadata": {},
   "outputs": [
    {
     "name": "stdout",
     "output_type": "stream",
     "text": [
      "Size of messy data: 200\n",
      "Column names: ['carat', 'clarity', 'color', 'cut', 'x dimension', 'y dimension', 'z dimension', 'depth', 'table', 'price']\n"
     ]
    }
   ],
   "source": [
    "dataset = pd.read_csv('messy_data.csv', skipinitialspace=True)\n",
    "\n",
    "# Print the size of the messy data\n",
    "print('Size of messy data: %d' % len(dataset))\n",
    "\n",
    "# Print column names\n",
    "print('Column names: %s' % list(dataset.columns))"
   ]
  },
  {
   "cell_type": "markdown",
   "metadata": {},
   "source": [
    "## Data cleaning"
   ]
  },
  {
   "cell_type": "markdown",
   "metadata": {},
   "source": [
    "### initial cleaning"
   ]
  },
  {
   "cell_type": "code",
   "execution_count": 228,
   "metadata": {},
   "outputs": [
    {
     "name": "stdout",
     "output_type": "stream",
     "text": [
      "Size of data: 196\n",
      "Column names: ['carat', 'clarity', 'color', 'cut', 'length', 'width', 'height', 'depth', 'table', 'price']\n"
     ]
    }
   ],
   "source": [
    "# Strip leading/trailing spaces from column names\n",
    "dataset.columns = dataset.columns.str.strip()\n",
    "\n",
    "# clarity, color and cut should be uppercase\n",
    "dataset['clarity'] = dataset['clarity'].str.upper()\n",
    "dataset['color'] = dataset['color'].str.upper()\n",
    "dataset['cut'] = dataset['cut'].str.upper()\n",
    "\n",
    "# Rename columns x dimension, y dimension, and z dimension to length, width, and height\n",
    "dataset = dataset.rename(columns={'x dimension': 'length', 'y dimension': 'width', 'z dimension': 'height'})\n",
    "\n",
    "# Drop rows with missing price values\n",
    "dataset.dropna(subset=['price'], inplace=True)\n",
    "\n",
    "# Drop any duplicate rows\n",
    "dataset.drop_duplicates(inplace=True)\n",
    "\n",
    "# Print the size of the messy data\n",
    "print('Size of data: %d' % len(dataset))\n",
    "\n",
    "# Print column names\n",
    "print('Column names: %s' % list(dataset.columns))"
   ]
  },
  {
   "cell_type": "markdown",
   "metadata": {},
   "source": [
    "### write clean data to csv"
   ]
  },
  {
   "cell_type": "code",
   "execution_count": 229,
   "metadata": {},
   "outputs": [],
   "source": [
    "# We do not want to deal with missing values yet\n",
    "clean_data = dataset.copy()\n",
    "clean_data.to_csv('clean_data.csv', index=False)"
   ]
  },
  {
   "cell_type": "markdown",
   "metadata": {},
   "source": [
    "### identifying missing data"
   ]
  },
  {
   "cell_type": "code",
   "execution_count": 230,
   "metadata": {},
   "outputs": [
    {
     "name": "stdout",
     "output_type": "stream",
     "text": [
      "Missing values: \n",
      " carat      48\n",
      "clarity     0\n",
      "color       0\n",
      "cut         0\n",
      "length      2\n",
      "width      64\n",
      "height     46\n",
      "depth      67\n",
      "table      32\n",
      "price       0\n",
      "dtype: int64 \n",
      "\n",
      "In total, there were 259 missing values in the dataset. \n",
      "\n",
      "After imputation, there are 0 missing values in the dataset.\n"
     ]
    }
   ],
   "source": [
    "\n",
    "missingValues = dataset.isnull().sum()\n",
    "print(\"Missing values: \\n\", missingValues, \"\\n\")\n",
    "\n",
    "print(\"In total, there were\", missingValues.sum(), \"missing values in the dataset.\", \"\\n\")\n",
    "\n",
    "# Impute missing values with mean\n",
    "imputer = SimpleImputer(strategy='mean')\n",
    "\n",
    "# Fit on columns: carat, length, width, height, depth, and table\n",
    "imputer.fit(dataset[['carat', 'length', 'width', 'height', 'depth', 'table']])\n",
    "\n",
    "# Transform columns: carat, length, width, height, depth, and table\n",
    "dataset[['carat', 'length', 'width', 'height', 'depth', 'table']] = imputer.transform(dataset[['carat', 'length', 'width', 'height', 'depth', 'table']])\n",
    "\n",
    "print(\"After imputation, there are\", dataset.isnull().sum().sum(), \"missing values in the dataset.\")\n",
    "\n"
   ]
  },
  {
   "cell_type": "markdown",
   "metadata": {},
   "source": [
    "### Remove extreme values"
   ]
  },
  {
   "cell_type": "code",
   "execution_count": 231,
   "metadata": {},
   "outputs": [
    {
     "name": "stdout",
     "output_type": "stream",
     "text": [
      "dataset size after removing outliers: (178, 10)\n"
     ]
    }
   ],
   "source": [
    "for col in ['price']:\n",
    "    lower_bound, upper_bound = dataset[col].quantile(0.05), dataset[col].quantile(0.95)\n",
    "    dataset = dataset[(dataset[col] >= lower_bound) & (dataset[col] <= upper_bound)]\n",
    "\n",
    "print(\"dataset size after removing outliers:\", dataset.shape)"
   ]
  },
  {
   "cell_type": "markdown",
   "metadata": {},
   "source": [
    "### Write prepared data to csv"
   ]
  },
  {
   "cell_type": "markdown",
   "metadata": {},
   "source": [
    "## Regression model"
   ]
  },
  {
   "cell_type": "markdown",
   "metadata": {},
   "source": [
    "### One-hot encoding"
   ]
  },
  {
   "cell_type": "code",
   "execution_count": 232,
   "metadata": {},
   "outputs": [],
   "source": [
    "categorical_vars = ['clarity', 'color', 'cut']\n",
    "\n",
    "ct = ColumnTransformer([(\"encoder\", OneHotEncoder(), categorical_vars)], remainder='passthrough')\n",
    "df_encoded = ct.fit_transform(dataset)\n",
    "\n",
    "encoded_columns = ct.get_feature_names_out()[:-7]\n",
    "non_categorical_columns = [col for col in dataset.columns if col not in categorical_vars]\n",
    "new_columns = np.append(encoded_columns, non_categorical_columns)\n",
    "\n",
    "dataset = pd.DataFrame(df_encoded, columns=new_columns)"
   ]
  },
  {
   "cell_type": "markdown",
   "metadata": {},
   "source": [
    "### Split the features and dependent variable"
   ]
  },
  {
   "cell_type": "code",
   "execution_count": 233,
   "metadata": {},
   "outputs": [],
   "source": [
    "X = dataset.drop('price', axis=1)\n",
    "y = dataset['price']\n",
    "\n",
    "y.to_csv('model_expected_data.csv', index=False)"
   ]
  },
  {
   "cell_type": "markdown",
   "metadata": {},
   "source": [
    "### Backwards elimination"
   ]
  },
  {
   "cell_type": "code",
   "execution_count": 234,
   "metadata": {},
   "outputs": [
    {
     "name": "stdout",
     "output_type": "stream",
     "text": [
      "['encoder__clarity_I1', 'encoder__clarity_IF', 'encoder__clarity_SI1', 'encoder__clarity_SI2', 'encoder__clarity_VVS1', 'encoder__clarity_VVS2', 'encoder__color_COLORLESS', 'encoder__color_D', 'encoder__color_E', 'encoder__color_F', 'encoder__color_G', 'encoder__color_H', 'encoder__color_I', 'encoder__color_J', 'encoder__cut_FAIR', 'encoder__cut_GOOD', 'encoder__cut_IDEAL', 'encoder__cut_PREMIUM', 'encoder__cut_VERY GOOD', 'carat', 'length']\n",
      "                            OLS Regression Results                            \n",
      "==============================================================================\n",
      "Dep. Variable:                  price   R-squared:                       0.894\n",
      "Model:                            OLS   Adj. R-squared:                  0.882\n",
      "Method:                 Least Squares   F-statistic:                     74.68\n",
      "Date:                Sat, 03 Feb 2024   Prob (F-statistic):           6.97e-68\n",
      "Time:                        22:53:21   Log-Likelihood:                -1472.7\n",
      "No. Observations:                 178   AIC:                             2983.\n",
      "Df Residuals:                     159   BIC:                             3044.\n",
      "Df Model:                          18                                         \n",
      "Covariance Type:            nonrobust                                         \n",
      "============================================================================================\n",
      "                               coef    std err          t      P>|t|      [0.025      0.975]\n",
      "--------------------------------------------------------------------------------------------\n",
      "const                    -8925.5263    790.257    -11.294      0.000   -1.05e+04   -7364.772\n",
      "encoder__clarity_I1      -3276.2270    224.463    -14.596      0.000   -3719.541   -2832.913\n",
      "encoder__clarity_IF       -651.6074    260.968     -2.497      0.014   -1167.018    -136.197\n",
      "encoder__clarity_SI1     -1486.4658    217.450     -6.836      0.000   -1915.929   -1057.003\n",
      "encoder__clarity_SI2     -1673.7753    191.681     -8.732      0.000   -2052.344   -1295.207\n",
      "encoder__clarity_VVS1     -911.2194    236.148     -3.859      0.000   -1377.610    -444.829\n",
      "encoder__clarity_VVS2     -926.2314    234.416     -3.951      0.000   -1389.202    -463.261\n",
      "encoder__color_COLORLESS -1295.3819    372.965     -3.473      0.001   -2031.987    -558.777\n",
      "encoder__color_D          -739.2630    279.568     -2.644      0.009   -1291.409    -187.117\n",
      "encoder__color_E         -1341.7915    239.008     -5.614      0.000   -1813.831    -869.752\n",
      "encoder__color_F          -959.9384    205.495     -4.671      0.000   -1365.790    -554.087\n",
      "encoder__color_G          -929.8230    193.177     -4.813      0.000   -1311.347    -548.299\n",
      "encoder__color_H         -1190.2468    217.304     -5.477      0.000   -1619.421    -761.072\n",
      "encoder__color_I         -1095.3647    219.929     -4.981      0.000   -1529.724    -661.006\n",
      "encoder__color_J         -1373.7170    343.033     -4.005      0.000   -2051.206    -696.228\n",
      "encoder__cut_FAIR        -2271.7398    235.999     -9.626      0.000   -2737.837   -1805.642\n",
      "encoder__cut_GOOD        -2004.2976    208.439     -9.616      0.000   -2415.964   -1592.631\n",
      "encoder__cut_IDEAL       -1622.1599    222.273     -7.298      0.000   -2061.149   -1183.171\n",
      "encoder__cut_PREMIUM     -1178.9836    233.399     -5.051      0.000   -1639.947    -718.020\n",
      "encoder__cut_VERY GOOD   -1848.3453    229.671     -8.048      0.000   -2301.945   -1394.746\n",
      "carat                     3063.5149    775.511      3.950      0.000    1531.884    4595.145\n",
      "length                    2725.7945    289.925      9.402      0.000    2153.193    3298.396\n",
      "==============================================================================\n",
      "Omnibus:                       67.718   Durbin-Watson:                   1.807\n",
      "Prob(Omnibus):                  0.000   Jarque-Bera (JB):              410.516\n",
      "Skew:                          -1.259   Prob(JB):                     7.20e-90\n",
      "Kurtosis:                      10.001   Cond. No.                     8.02e+16\n",
      "==============================================================================\n",
      "\n",
      "Notes:\n",
      "[1] Standard Errors assume that the covariance matrix of the errors is correctly specified.\n",
      "[2] The smallest eigenvalue is 1.04e-30. This might indicate that there are\n",
      "strong multicollinearity problems or that the design matrix is singular.\n"
     ]
    }
   ],
   "source": [
    "def backward_elimination(data, target, significance_level=0.05):\n",
    "    features = data.columns.tolist()\n",
    "    while len(features) > 0:\n",
    "        features_with_constant = sm.add_constant(data[features])\n",
    "        p_values = sm.OLS(target, features_with_constant).fit().pvalues[1:] \n",
    "        max_p_value = p_values.max()\n",
    "        if max_p_value > significance_level:\n",
    "            excluded_feature = p_values.idxmax()\n",
    "            features.remove(excluded_feature)\n",
    "        else:\n",
    "            break\n",
    "    return features\n",
    "\n",
    "\n",
    "selected_features = backward_elimination(X, y)\n",
    "print(selected_features)\n",
    "\n",
    "# Print the significance of each feature\n",
    "summary = sm.OLS(y, sm.add_constant(X[selected_features])).fit().summary()\n",
    "print(summary)\n",
    "\n"
   ]
  },
  {
   "cell_type": "markdown",
   "metadata": {},
   "source": [
    "### Building the model"
   ]
  },
  {
   "cell_type": "code",
   "execution_count": 235,
   "metadata": {},
   "outputs": [
    {
     "data": {
      "text/plain": [
       "['model.joblib']"
      ]
     },
     "execution_count": 235,
     "metadata": {},
     "output_type": "execute_result"
    }
   ],
   "source": [
    "X_selected = X[selected_features]\n",
    "# X_train, X_test, y_train, y_test = train_test_split(X_selected, y, test_size=0.2, random_state=1)\n",
    "X_selected.to_csv('model_train_data.csv', index=False)\n",
    "\n",
    "model = LinearRegression()\n",
    "# model.fit(X_train, y_train)\n",
    "model.fit(X_selected, y)\n",
    "\n",
    "# Save the model to a file\n",
    "import joblib\n",
    "joblib.dump(model, 'model.joblib')"
   ]
  },
  {
   "cell_type": "markdown",
   "metadata": {},
   "source": [
    "### Rate the model"
   ]
  },
  {
   "cell_type": "code",
   "execution_count": 236,
   "metadata": {},
   "outputs": [
    {
     "name": "stdout",
     "output_type": "stream",
     "text": [
      "RMSE: 990.7750229327623\n",
      "R^2: 0.8845736739470954\n"
     ]
    }
   ],
   "source": [
    "y_pred = model.predict(X_selected)\n",
    "print('RMSE:', mean_squared_error(y, y_pred) ** 0.5)\n",
    "print('R^2:', r2_score(y, y_pred))"
   ]
  },
  {
   "cell_type": "markdown",
   "metadata": {},
   "source": [
    "### Visualize the results"
   ]
  },
  {
   "cell_type": "code",
   "execution_count": 237,
   "metadata": {},
   "outputs": [
    {
     "name": "stdout",
     "output_type": "stream",
     "text": [
      "min(y): 1400.0, max(y): 10700.0\n",
      "min(y_pred): 128.0, max(y_pred): 10368.0\n"
     ]
    },
    {
     "data": {
      "image/png": "[encoded data removed]",
      "text/plain": [
       "<Figure size 640x480 with 1 Axes>"
      ]
     },
     "metadata": {},
     "output_type": "display_data"
    }
   ],
   "source": [
    "plt.scatter(y, y_pred)\n",
    "plt.xlabel('Real prices')\n",
    "plt.ylabel('Expected prices')\n",
    "plt.title('Real vs Expected diamond prices')\n",
    "plt.plot([min(y), max(y)], [min(y_pred), max(y_pred)], color='red')\n",
    "print(f'min(y): {min(y)}, max(y): {max(y)}')\n",
    "print(f'min(y_pred): {min(y_pred)}, max(y_pred): {max(y_pred)}')\n",
    "plt.show()"
   ]
  }
 ],
 "metadata": {
  "kernelspec": {
   "display_name": "Python 3",
   "language": "python",
   "name": "python3"
  },
  "language_info": {
   "codemirror_mode": {
    "name": "ipython",
    "version": 3
   },
   "file_extension": ".py",
   "mimetype": "text/x-python",
   "name": "python",
   "nbconvert_exporter": "python",
   "pygments_lexer": "ipython3",
   "version": "3.11.7"
  }
 },
 "nbformat": 4,
 "nbformat_minor": 2
}
